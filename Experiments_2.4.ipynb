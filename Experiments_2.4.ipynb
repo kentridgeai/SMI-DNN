{
 "cells": [
  {
   "cell_type": "markdown",
   "metadata": {},
   "source": [
    "### Experiments for Section 2.4: SMI Behaviour in DNNs"
   ]
  },
  {
   "cell_type": "code",
   "execution_count": null,
   "metadata": {},
   "outputs": [],
   "source": [
    "import numpy as np\n",
    "import pandas as pd\n",
    "import keras\n",
    "import tensorflow as tf\n",
    "import os\n",
    "import json\n",
    "import pickle\n",
    "\n",
    "from utils import models\n",
    "from utils import datasets\n",
    "from utils import entropy_estimators as ee"
   ]
  },
  {
   "cell_type": "code",
   "execution_count": null,
   "metadata": {},
   "outputs": [],
   "source": [
    "tf.test.is_gpu_available(\n",
    "    cuda_only=False, min_cuda_compute_capability=None\n",
    ")"
   ]
  },
  {
   "cell_type": "markdown",
   "metadata": {},
   "source": [
    "## MLP"
   ]
  },
  {
   "cell_type": "markdown",
   "metadata": {},
   "source": [
    "Hyperparameters:"
   ]
  },
  {
   "cell_type": "code",
   "execution_count": null,
   "metadata": {},
   "outputs": [],
   "source": [
    "cfg = {}\n",
    "cfg['dataset'] = 'Fashion_MNIST'\n",
    "cfg['model'] = 'MLP'\n",
    "cfg['width'] = [1024,1024,1024,1024]\n",
    "cfg['optimizer'] = 'SGD'\n",
    "cfg['learning_rate'] = 0.01\n",
    "cfg['batch_size']    = 32\n",
    "cfg['n_epochs'] = 50\n",
    "cfg['patience'] = 20\n",
    "\n",
    "cfg['dropout'] = []\n",
    "cfg['noise_ratio'] = 0\n",
    "cfg['batch_norm'] = []\n",
    "cfg['weight_decay'] = []"
   ]
  },
  {
   "cell_type": "markdown",
   "metadata": {},
   "source": [
    "Compute the SMI of each layer prior to training (epoch 0)."
   ]
  },
  {
   "cell_type": "code",
   "execution_count": null,
   "metadata": {
    "scrolled": true
   },
   "outputs": [],
   "source": [
    "all_smi = []\n",
    "\n",
    "for n_run in range(5):\n",
    "    run = n_run+1\n",
    "    print('Run:',run)\n",
    "    arch =  '-'.join(map(str,cfg['width']))\n",
    "    exp_name = 'dpi/'+cfg['model']+'_'+arch+'_'+cfg['dataset']+'_'+cfg['optimizer']\n",
    "    cfg['exp_name'] = exp_name + '/run_%d'%(run)\n",
    "    if not os.path.exists(cfg['exp_name']):\n",
    "        print(\"Making directory\", cfg['exp_name'])\n",
    "        os.makedirs(cfg['exp_name'])\n",
    "    fname = cfg['exp_name'] + '/config.json'\n",
    "    with open(fname, 'w') as f:\n",
    "        json.dump(cfg, f)\n",
    "    \n",
    "    trn, tst = datasets.get_dataset(cfg)\n",
    "    model = models.get_model(cfg, trn)\n",
    "    if not os.path.exists(cfg['exp_name']+'/saved_models'):\n",
    "        print(\"Making directory\", cfg['exp_name']+'/saved_models')\n",
    "        os.makedirs(cfg['exp_name']+'/saved_models')\n",
    "    model.save(cfg['exp_name']+\"/saved_models/model-00\")\n",
    "    \n",
    "    smi_all_layers = []\n",
    "    for l,layer in enumerate(model.layers):\n",
    "        int_model = keras.Model(inputs=model.inputs, outputs=model.layers[l].output)\n",
    "        activity = int_model.predict(trn.X[:10000])\n",
    "        smi = ee.compute_smi(x=activity, y=trn.y[:10000], m=500)\n",
    "        smi_all_layers.append(smi)\n",
    "        print(f'Layer {l}: SI(T;Y) = {smi:.3f}')\n",
    "    fname = cfg['exp_name']+'/smi_0'\n",
    "    print(\"Saving\", fname)\n",
    "    with open(fname, 'wb') as f:\n",
    "        pickle.dump(smi_all_layers, f, pickle.HIGHEST_PROTOCOL)\n",
    "    all_smi.append(smi_all_layers)\n",
    "    \n",
    "fname = exp_name+'/smi_0'\n",
    "print(\"Saving\", fname)\n",
    "with open(fname, 'wb') as f:\n",
    "    pickle.dump(all_smi, f, pickle.HIGHEST_PROTOCOL)"
   ]
  },
  {
   "cell_type": "markdown",
   "metadata": {},
   "source": [
    "Train the networks for 50 epochs and save the models at epoch 5 and epoch 50."
   ]
  },
  {
   "cell_type": "code",
   "execution_count": null,
   "metadata": {
    "scrolled": true
   },
   "outputs": [],
   "source": [
    "for n_run in range(5):\n",
    "    tf.keras.backend.clear_session()\n",
    "    run = n_run+1\n",
    "    print('Run:',run)\n",
    "    arch =  '-'.join(map(str,cfg['width']))\n",
    "    exp_name = 'dpi/'+cfg['model']+'_'+arch+'_'+cfg['dataset']+'_'+cfg['optimizer']\n",
    "    cfg['exp_name'] = exp_name + '/run_%d'%(run)\n",
    "    \n",
    "    trn, tst = datasets.get_dataset(cfg)\n",
    "    model = keras.models.load_model(cfg['exp_name']+\"/saved_models/model-00\")\n",
    "    \n",
    "    class CustomSaver(keras.callbacks.Callback):\n",
    "        def on_epoch_end(self, epoch, logs={}):\n",
    "            if epoch == 5:\n",
    "                self.model.save(cfg['exp_name']+\"/saved_models/model-05\")\n",
    "    \n",
    "    r = model.fit(x=trn.X, y=trn.Y, \n",
    "              verbose    = 1, \n",
    "              batch_size = cfg['batch_size'],\n",
    "              epochs = 50,\n",
    "              callbacks=[CustomSaver()])\n",
    "    model.save(cfg['exp_name']+\"/saved_models/model-50\")"
   ]
  },
  {
   "cell_type": "markdown",
   "metadata": {},
   "source": [
    "Compute the SMI for each layer at epoch 5."
   ]
  },
  {
   "cell_type": "code",
   "execution_count": null,
   "metadata": {
    "scrolled": true
   },
   "outputs": [],
   "source": [
    "all_smi = []\n",
    "\n",
    "for n_run in range(5):\n",
    "    tf.keras.backend.clear_session()\n",
    "    run = n_run+1\n",
    "    print('Run:',run)\n",
    "    arch =  '-'.join(map(str,cfg['width']))\n",
    "    exp_name = 'dpi/'+cfg['model']+'_'+arch+'_'+cfg['dataset']+'_'+cfg['optimizer']\n",
    "    cfg['exp_name'] = exp_name + '/run_%d'%(run)\n",
    "    \n",
    "    model = keras.models.load_model(cfg['exp_name']+\"/saved_models/model-05\")\n",
    "\n",
    "    smi_all_layers = []\n",
    "    for l,layer in enumerate(model.layers):\n",
    "        int_model = keras.Model(inputs=model.inputs, outputs=model.layers[l].output)\n",
    "        activity = int_model.predict(trn.X[:10000])\n",
    "        smi = ee.compute_smi(x=activity, y=trn.y[:10000], m=500)\n",
    "        smi_all_layers.append(smi)\n",
    "        print('Layer %d: SI(T;Y) = %0.3f'%(l,smi))\n",
    "    fname = cfg['exp_name']+'/smi_5'\n",
    "    print(\"Saving\", fname)\n",
    "    with open(fname, 'wb') as f:\n",
    "        pickle.dump(smi_all_layers, f, pickle.HIGHEST_PROTOCOL)\n",
    "    all_smi.append(smi_all_layers)\n",
    "    \n",
    "fname = exp_name+'/smi_5'\n",
    "print(\"Saving\", fname)\n",
    "with open(fname, 'wb') as f:\n",
    "    pickle.dump(all_smi, f, pickle.HIGHEST_PROTOCOL)"
   ]
  },
  {
   "cell_type": "markdown",
   "metadata": {},
   "source": [
    "Compute the SMI for each layer at epoch 50:"
   ]
  },
  {
   "cell_type": "code",
   "execution_count": null,
   "metadata": {
    "scrolled": true
   },
   "outputs": [],
   "source": [
    "all_smi = []\n",
    "\n",
    "for n_run in range(2):\n",
    "    tf.keras.backend.clear_session()\n",
    "    run = n_run+1\n",
    "    print('Run:',run)\n",
    "    arch =  '-'.join(map(str,cfg['width']))\n",
    "    exp_name = 'dpi/'+cfg['model']+'_'+arch+'_'+cfg['dataset']+'_'+cfg['optimizer']\n",
    "    cfg['exp_name'] = exp_name + '/run_%d'%(run)\n",
    "    \n",
    "    model = keras.models.load_model(cfg['exp_name']+\"/saved_models/model-50\")\n",
    "\n",
    "    smi_all_layers = []\n",
    "    for l,layer in enumerate(model.layers):\n",
    "        int_model = keras.Model(inputs=model.inputs, outputs=model.layers[l].output)\n",
    "        activity = int_model.predict(trn.X[:10000])\n",
    "        smi = ee.compute_smi(x=activity, y=trn.y[:10000], m=500)\n",
    "        smi_all_layers.append(smi)\n",
    "        print('Layer %d: SI(T;Y) = %0.3f'%(l,smi))\n",
    "    fname = cfg['exp_name']+'/smi_50'\n",
    "    print(\"Saving\", fname)\n",
    "    with open(fname, 'wb') as f:\n",
    "        pickle.dump(smi_all_layers, f, pickle.HIGHEST_PROTOCOL)\n",
    "    all_smi.append(smi_all_layers)\n",
    "    \n",
    "fname = exp_name+'/smi_50'\n",
    "print(\"Saving\", fname)\n",
    "with open(fname, 'wb') as f:\n",
    "    pickle.dump(all_smi, f, pickle.HIGHEST_PROTOCOL)"
   ]
  },
  {
   "cell_type": "markdown",
   "metadata": {},
   "source": [
    "## CNN"
   ]
  },
  {
   "cell_type": "markdown",
   "metadata": {},
   "source": [
    "Hyperparameters:"
   ]
  },
  {
   "cell_type": "code",
   "execution_count": null,
   "metadata": {},
   "outputs": [],
   "source": [
    "cfg = {}\n",
    "cfg['dataset'] = 'Fashion_MNIST'\n",
    "cfg['model'] = 'CNN_Global'\n",
    "cfg['width'] = [32,32,32,32,32]\n",
    "cfg['optimizer'] = 'SGD'\n",
    "cfg['learning_rate'] = 0.01\n",
    "cfg['batch_size']    = 32\n",
    "cfg['n_epochs'] = 50\n",
    "cfg['patience'] = 20\n",
    "\n",
    "cfg['dropout'] = []\n",
    "cfg['noise_ratio'] = 0\n",
    "cfg['batch_norm'] = []"
   ]
  },
  {
   "cell_type": "markdown",
   "metadata": {},
   "source": [
    "Compute the SMI of each layer prior to training (epoch 0)."
   ]
  },
  {
   "cell_type": "code",
   "execution_count": null,
   "metadata": {
    "scrolled": true
   },
   "outputs": [],
   "source": [
    "all_smi = []\n",
    "\n",
    "for n_run in range(5):\n",
    "    run = n_run+1\n",
    "    print('Run:',run)\n",
    "    arch =  '-'.join(map(str,cfg['width']))\n",
    "    exp_name = 'dpi/'+cfg['model']+'_'+arch+'_'+cfg['dataset']+'_'+cfg['optimizer']\n",
    "    cfg['exp_name'] = exp_name + '/run_%d'%(run)\n",
    "    if not os.path.exists(cfg['exp_name']):\n",
    "        print(\"Making directory\", cfg['exp_name'])\n",
    "        os.makedirs(cfg['exp_name'])\n",
    "    fname = cfg['exp_name'] + '/config.json'\n",
    "    with open(fname, 'w') as f:\n",
    "        json.dump(cfg, f)\n",
    "    \n",
    "    trn, tst = datasets.get_dataset(cfg)\n",
    "    model = models.get_model(cfg, trn)\n",
    "    if not os.path.exists(cfg['exp_name']+'/saved_models'):\n",
    "        print(\"Making directory\", cfg['exp_name']+'/saved_models')\n",
    "        os.makedirs(cfg['exp_name']+'/saved_models')\n",
    "    model.save(cfg['exp_name']+\"/saved_models/model-00\")\n",
    "    \n",
    "    smi_all_layers = []\n",
    "    count = 0\n",
    "    for l,layer in enumerate(model.layers):\n",
    "        if isinstance(layer, keras.layers.InputLayer) or isinstance(layer, keras.layers.Activation) or isinstance(layer, keras.layers.GlobalAveragePooling2D):\n",
    "            int_model = keras.Model(inputs=model.inputs, outputs=model.layers[l].output)\n",
    "            activity = int_model.predict(trn.X[:10000])\n",
    "            if len(activity.shape) > 2:\n",
    "                activity = activity.reshape(activity.shape[0],-1)\n",
    "            smi = ee.compute_smi(x=activity, y=trn.y[:10000], m=500)\n",
    "            smi_all_layers.append(smi)\n",
    "            print(f'Layer {count}: SI(T;Y) = {smi:.3f}')\n",
    "            count += 1\n",
    "    fname = cfg['exp_name']+'/smi_0'\n",
    "    print(\"Saving\", fname)\n",
    "    with open(fname, 'wb') as f:\n",
    "        pickle.dump(smi_all_layers, f, pickle.HIGHEST_PROTOCOL)\n",
    "    all_smi.append(smi_all_layers)\n",
    "    \n",
    "fname = exp_name+'/smi_0'\n",
    "print(\"Saving\", fname)\n",
    "with open(fname, 'wb') as f:\n",
    "    pickle.dump(all_smi, f, pickle.HIGHEST_PROTOCOL)"
   ]
  },
  {
   "cell_type": "markdown",
   "metadata": {},
   "source": [
    "Train the networks for 50 epochs and save the models at epoch 5 and epoch 50."
   ]
  },
  {
   "cell_type": "code",
   "execution_count": null,
   "metadata": {
    "scrolled": true
   },
   "outputs": [],
   "source": [
    "for n_run in range(5):\n",
    "    tf.keras.backend.clear_session()\n",
    "    run = n_run+1\n",
    "    print('Run:',run)\n",
    "    arch =  '-'.join(map(str,cfg['width']))\n",
    "    exp_name = 'dpi/'+cfg['model']+'_'+arch+'_'+cfg['dataset']+'_'+cfg['optimizer']\n",
    "    cfg['exp_name'] = exp_name + '/run_%d'%(run)\n",
    "    \n",
    "    trn, tst = datasets.get_dataset(cfg)\n",
    "    model = keras.models.load_model(cfg['exp_name']+\"/saved_models/model-00\")\n",
    "    \n",
    "    class CustomSaver(keras.callbacks.Callback):\n",
    "    def on_epoch_end(self, epoch, logs={}):\n",
    "        if epoch == 5:\n",
    "            self.model.save(cfg['exp_name']+\"/saved_models/model-05\")\n",
    "    \n",
    "    r = model.fit(x=trn.X, y=trn.Y, \n",
    "              verbose    = 1, \n",
    "              batch_size = cfg['batch_size'],\n",
    "              epochs = 50,\n",
    "              callbacks=[CustomSaver()])\n",
    "    model.save(cfg['exp_name']+\"/saved_models/model-50\")"
   ]
  },
  {
   "cell_type": "markdown",
   "metadata": {},
   "source": [
    "Compute the SMI for each layer at epoch 5."
   ]
  },
  {
   "cell_type": "code",
   "execution_count": null,
   "metadata": {
    "scrolled": true
   },
   "outputs": [],
   "source": [
    "all_smi = []\n",
    "\n",
    "for n_run in range(5):\n",
    "    tf.keras.backend.clear_session()\n",
    "    run = n_run+1\n",
    "    print('Run:',run)\n",
    "    arch =  '-'.join(map(str,cfg['width']))\n",
    "    exp_name = 'dpi/'+cfg['model']+'_'+arch+'_'+cfg['dataset']+'_'+cfg['optimizer']\n",
    "    cfg['exp_name'] = exp_name + '/run_%d'%(run)\n",
    "    \n",
    "    model = keras.models.load_model(cfg['exp_name']+\"/saved_models/model-05\")\n",
    "\n",
    "    smi_all_layers = []\n",
    "    count = 0\n",
    "    for l,layer in enumerate(model.layers):\n",
    "        if isinstance(layer, keras.layers.InputLayer) or isinstance(layer, keras.layers.Activation) or isinstance(layer, keras.layers.GlobalAveragePooling2D):\n",
    "            int_model = keras.Model(inputs=model.inputs, outputs=model.layers[l].output)\n",
    "            activity = int_model.predict(trn.X[:10000])\n",
    "            if len(activity.shape) > 2:\n",
    "                activity = activity.reshape(activity.shape[0],-1)\n",
    "            smi = ee.compute_smi(x=activity, y=trn.y[:10000], m=500)\n",
    "            smi_all_layers.append(smi)\n",
    "            print(f'Layer {count}: SI(T;Y) = {smi:.3f}')\n",
    "            count += 1\n",
    "    fname = cfg['exp_name']+'/smi_5'\n",
    "    print(\"Saving\", fname)\n",
    "    with open(fname, 'wb') as f:\n",
    "        pickle.dump(smi_all_layers, f, pickle.HIGHEST_PROTOCOL)\n",
    "    all_smi.append(smi_all_layers)\n",
    "    \n",
    "fname = exp_name+'/smi_5'\n",
    "print(\"Saving\", fname)\n",
    "with open(fname, 'wb') as f:\n",
    "    pickle.dump(all_smi, f, pickle.HIGHEST_PROTOCOL)"
   ]
  },
  {
   "cell_type": "markdown",
   "metadata": {},
   "source": [
    "Compute the SMI for each layer at epoch 50."
   ]
  },
  {
   "cell_type": "code",
   "execution_count": null,
   "metadata": {
    "scrolled": true
   },
   "outputs": [],
   "source": [
    "all_smi = []\n",
    "\n",
    "for n_run in range(5):\n",
    "    tf.keras.backend.clear_session()\n",
    "    run = n_run+1\n",
    "    print('Run:',run)\n",
    "    arch =  '-'.join(map(str,cfg['width']))\n",
    "    exp_name = 'dpi/'+cfg['model']+'_'+arch+'_'+cfg['dataset']+'_'+cfg['optimizer']\n",
    "    cfg['exp_name'] = exp_name + '/run_%d'%(run)\n",
    "    \n",
    "    model = keras.models.load_model(cfg['exp_name']+\"/saved_models/model-50\")\n",
    "\n",
    "    smi_all_layers = []\n",
    "    count = 0\n",
    "    for l,layer in enumerate(model.layers):\n",
    "        if isinstance(layer, keras.layers.InputLayer) or isinstance(layer, keras.layers.Activation) or isinstance(layer, keras.layers.GlobalAveragePooling2D):\n",
    "            int_model = keras.Model(inputs=model.inputs, outputs=model.layers[l].output)\n",
    "            activity = int_model.predict(trn.X[:10000])\n",
    "            if len(activity.shape) > 2:\n",
    "                activity = activity.reshape(activity.shape[0],-1)\n",
    "            smi = ee.compute_smi(x=activity, y=trn.y[:10000], m=500)\n",
    "            smi_all_layers.append(smi)\n",
    "            print(f'Layer {count}: SI(T;Y) = {smi:.3f}')\n",
    "            count += 1\n",
    "    fname = cfg['exp_name']+'/smi_50'\n",
    "    print(\"Saving\", fname)\n",
    "    with open(fname, 'wb') as f:\n",
    "        pickle.dump(smi_all_layers, f, pickle.HIGHEST_PROTOCOL)\n",
    "    all_smi.append(smi_all_layers)\n",
    "    \n",
    "fname = exp_name+'/smi_50'\n",
    "print(\"Saving\", fname)\n",
    "with open(fname, 'wb') as f:\n",
    "    pickle.dump(all_smi, f, pickle.HIGHEST_PROTOCOL)"
   ]
  },
  {
   "cell_type": "markdown",
   "metadata": {},
   "source": [
    "## VGG"
   ]
  },
  {
   "cell_type": "markdown",
   "metadata": {},
   "source": [
    "Hyperparameters:"
   ]
  },
  {
   "cell_type": "code",
   "execution_count": null,
   "metadata": {},
   "outputs": [],
   "source": [
    "cfg = {}\n",
    "cfg['dataset'] = 'CIFAR10'\n",
    "cfg['model'] = 'VGG16'\n",
    "cfg['optimizer'] = 'SGD'\n",
    "cfg['learning_rate'] = 0.001\n",
    "cfg['batch_size']    = 32\n",
    "cfg['n_epochs'] = 50\n",
    "cfg['noise_ratio'] = 0"
   ]
  },
  {
   "cell_type": "markdown",
   "metadata": {},
   "source": [
    "Compute the SMI of each layer prior to training (epoch 0)."
   ]
  },
  {
   "cell_type": "code",
   "execution_count": null,
   "metadata": {
    "scrolled": true
   },
   "outputs": [],
   "source": [
    "all_smi = []\n",
    "\n",
    "for n_run in range(5):\n",
    "    run = n_run+1\n",
    "    print('Run:',run)    \n",
    "    exp_name = 'dpi/'+cfg['model']+'_'+cfg['dataset']+'_'+cfg['optimizer']\n",
    "    cfg['exp_name'] = exp_name + '/run_%d'%(run)\n",
    "    if not os.path.exists(cfg['exp_name']):\n",
    "        print(\"Making directory\", cfg['exp_name'])\n",
    "        os.makedirs(cfg['exp_name'])\n",
    "    fname = cfg['exp_name'] + '/config.json'\n",
    "    with open(fname, 'w') as f:\n",
    "        json.dump(cfg, f)\n",
    "\n",
    "    trn, tst = datasets.get_dataset(cfg)\n",
    "    model = models.get_model(cfg, trn)\n",
    "    if not os.path.exists(cfg['exp_name']+'/saved_models'):\n",
    "        print(\"Making directory\", cfg['exp_name']+'/saved_models')\n",
    "        os.makedirs(cfg['exp_name']+'/saved_models')\n",
    "    model.save(cfg['exp_name']+\"/saved_models/model-00\")\n",
    "\n",
    "    smi_all_layers = []\n",
    "    for l,layer in enumerate(model.layers):\n",
    "        int_model = keras.Model(inputs=model.inputs, outputs=model.layers[l].output)\n",
    "        activity = int_model.predict(trn.X[:10000])\n",
    "        if len(activity.shape) > 2:\n",
    "            activity = activity.reshape(activity.shape[0],-1)\n",
    "        smi = ee.compute_smi(x=activity, y=trn.y[:10000], m=500)\n",
    "        smi_all_layers.append(smi)\n",
    "        print(f'Layer {model.layers[l].name}: SI(T;Y) = {smi:.3f}')\n",
    "\n",
    "    fname = cfg['exp_name']+'/smi_0'\n",
    "    print(\"Saving\", fname)\n",
    "    with open(fname, 'wb') as f:\n",
    "        pickle.dump(smi_all_layers, f, pickle.HIGHEST_PROTOCOL)\n",
    "    all_smi.append(smi_all_layers)\n",
    "    \n",
    "fname = exp_name+'/smi_0'\n",
    "print(\"Saving\", fname)\n",
    "with open(fname, 'wb') as f:\n",
    "    pickle.dump(all_smi, f, pickle.HIGHEST_PROTOCOL)"
   ]
  },
  {
   "cell_type": "markdown",
   "metadata": {},
   "source": [
    "Train the networks for 50 epochs and save the models at epoch 5 and epoch 50."
   ]
  },
  {
   "cell_type": "code",
   "execution_count": null,
   "metadata": {
    "scrolled": true
   },
   "outputs": [],
   "source": [
    "for n_run in range(5):\n",
    "    tf.keras.backend.clear_session()\n",
    "    run = n_run+1\n",
    "    print('Run:',run)\n",
    "    exp_name = 'dpi/'+cfg['model']+'_'+cfg['dataset']+'_'+cfg['optimizer']\n",
    "    cfg['exp_name'] = exp_name + '/run_%d'%(run)\n",
    "\n",
    "    trn, tst = datasets.get_dataset(cfg)\n",
    "    model = keras.models.load_model(cfg['exp_name']+\"/saved_models/model-00\")\n",
    "\n",
    "    class CustomSaver(keras.callbacks.Callback):\n",
    "        def on_epoch_end(self, epoch, logs={}):\n",
    "            if epoch == 5:\n",
    "                self.model.save(cfg['exp_name']+\"/saved_models/model-05\")\n",
    "\n",
    "    r = model.fit(x=trn.X, y=trn.Y, \n",
    "              verbose    = 1, \n",
    "              batch_size = cfg['batch_size'],\n",
    "              epochs = cfg['n_epochs'],\n",
    "              validation_data=(tst.X, tst.Y),\n",
    "              callbacks=[CustomSaver()])\n",
    "    model.save(cfg['exp_name']+\"/saved_models/model-50\")"
   ]
  },
  {
   "cell_type": "markdown",
   "metadata": {},
   "source": [
    "Compute the SMI for each layer at epoch 5."
   ]
  },
  {
   "cell_type": "code",
   "execution_count": null,
   "metadata": {
    "scrolled": true
   },
   "outputs": [],
   "source": [
    "all_smi = []\n",
    "\n",
    "for n_run in range(5):\n",
    "    tf.keras.backend.clear_session()\n",
    "    run = n_run+1\n",
    "    print('Run:',run)\n",
    "    exp_name = 'dpi/'+cfg['model']+'_'+cfg['dataset']+'_'+cfg['optimizer']\n",
    "    cfg['exp_name'] = exp_name + '/run_%d'%(run)\n",
    "\n",
    "    model = keras.models.load_model(cfg['exp_name']+\"/saved_models/model-05\")\n",
    "\n",
    "    smi_all_layers = []\n",
    "    for l,layer in enumerate(model.layers):\n",
    "        int_model = keras.Model(inputs=model.inputs, outputs=model.layers[l].output)\n",
    "        activity = int_model.predict(trn.X[:10000])\n",
    "        if len(activity.shape) > 2:\n",
    "            activity = activity.reshape(activity.shape[0],-1)\n",
    "        smi = ee.compute_smi(x=activity, y=trn.y[:10000], m=500)\n",
    "        smi_all_layers.append(smi)\n",
    "        print(f'Layer {model.layers[l].name}: SI(T;Y) = {smi:.3f}')\n",
    "\n",
    "    fname = cfg['exp_name']+'/smi_5'\n",
    "    print(\"Saving\", fname)\n",
    "    with open(fname, 'wb') as f:\n",
    "        pickle.dump(smi_all_layers, f, pickle.HIGHEST_PROTOCOL)\n",
    "    all_smi.append(smi_all_layers)\n",
    "    \n",
    "fname = exp_name+'/smi_5'\n",
    "print(\"Saving\", fname)\n",
    "with open(fname, 'wb') as f:\n",
    "    pickle.dump(all_smi, f, pickle.HIGHEST_PROTOCOL)"
   ]
  },
  {
   "cell_type": "markdown",
   "metadata": {},
   "source": [
    "Compute the SMI for each layer at epoch 50."
   ]
  },
  {
   "cell_type": "code",
   "execution_count": null,
   "metadata": {
    "scrolled": true
   },
   "outputs": [],
   "source": [
    "all_smi = []\n",
    "\n",
    "for n_run in range(5):\n",
    "    tf.keras.backend.clear_session()\n",
    "    run = n_run+1\n",
    "    print('Run:',run)\n",
    "    exp_name = 'dpi/'+cfg['model']+'_'+cfg['dataset']+'_'+cfg['optimizer']\n",
    "    cfg['exp_name'] = exp_name + '/run_%d'%(run)\n",
    "\n",
    "    model = keras.models.load_model(cfg['exp_name']+\"/saved_models/model-50\")\n",
    "\n",
    "    smi_all_layers = []\n",
    "    for l,layer in enumerate(model.layers):\n",
    "        int_model = keras.Model(inputs=model.inputs, outputs=model.layers[l].output)\n",
    "        activity = int_model.predict(trn.X[:10000])\n",
    "        if len(activity.shape) > 2:\n",
    "            activity = activity.reshape(activity.shape[0],-1)\n",
    "        smi = ee.compute_smi(x=activity, y=trn.y[:10000], m=500)\n",
    "        smi_all_layers.append(smi)\n",
    "        print(f'Layer {model.layers[l].name}: SI(T;Y) = {smi:.3f}')\n",
    "\n",
    "    fname = cfg['exp_name']+'/smi_50'\n",
    "    print(\"Saving\", fname)\n",
    "    with open(fname, 'wb') as f:\n",
    "        pickle.dump(smi_all_layers, f, pickle.HIGHEST_PROTOCOL)\n",
    "    all_smi.append(smi_all_layers)\n",
    "    \n",
    "fname = exp_name+'/smi_50'\n",
    "print(\"Saving\", fname)\n",
    "with open(fname, 'wb') as f:\n",
    "    pickle.dump(all_smi, f, pickle.HIGHEST_PROTOCOL)  "
   ]
  }
 ],
 "metadata": {
  "kernelspec": {
   "display_name": "Python 3",
   "language": "python",
   "name": "python3"
  },
  "language_info": {
   "codemirror_mode": {
    "name": "ipython",
    "version": 3
   },
   "file_extension": ".py",
   "mimetype": "text/x-python",
   "name": "python",
   "nbconvert_exporter": "python",
   "pygments_lexer": "ipython3",
   "version": "3.6.13"
  }
 },
 "nbformat": 4,
 "nbformat_minor": 4
}
