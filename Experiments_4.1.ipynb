{
 "cells": [
  {
   "cell_type": "code",
   "execution_count": null,
   "metadata": {},
   "outputs": [],
   "source": [
    "import numpy as np\n",
    "import keras\n",
    "import tensorflow as tf\n",
    "import os\n",
    "import json\n",
    "import pickle\n",
    "from collections import defaultdict, namedtuple\n",
    "from keras.callbacks import ReduceLROnPlateau, ModelCheckpoint\n",
    "\n",
    "from utils import models\n",
    "from utils import datasets\n",
    "from utils import entropy_estimators as ee"
   ]
  },
  {
   "cell_type": "code",
   "execution_count": null,
   "metadata": {},
   "outputs": [],
   "source": [
    "tf.test.is_gpu_available(\n",
    "    cuda_only=False, min_cuda_compute_capability=None\n",
    ")"
   ]
  },
  {
   "cell_type": "markdown",
   "metadata": {},
   "source": [
    "## MLP"
   ]
  },
  {
   "cell_type": "markdown",
   "metadata": {},
   "source": [
    "Hyperparameters"
   ]
  },
  {
   "cell_type": "code",
   "execution_count": null,
   "metadata": {},
   "outputs": [],
   "source": [
    "cfg = {}\n",
    "cfg['dataset'] = 'MNIST'\n",
    "cfg['model'] = 'MLP'\n",
    "cfg['width'] = [1024,1024,1024,1024]\n",
    "cfg['optimizer'] = 'SGD'\n",
    "cfg['learning_rate'] = 0.01\n",
    "cfg['batch_size']    = 32\n",
    "cfg['n_epochs'] = 100\n",
    "cfg['patience'] = 20\n",
    "\n",
    "cfg['dropout'] = []\n",
    "cfg['noise_ratio'] = 0.4  # change the label noise ratio here\n",
    "cfg['batch_norm'] = []\n",
    "cfg['weight_decay'] = []"
   ]
  },
  {
   "cell_type": "code",
   "execution_count": null,
   "metadata": {},
   "outputs": [],
   "source": [
    "run = 1\n",
    "\n",
    "arch =  '-'.join(map(str,cfg['width']))\n",
    "exp_name = 'label_noise/'+cfg['model']+'_'+arch+'_'+cfg['dataset']+'_'+cfg['optimizer']\n",
    "if cfg['noise_ratio'] > 0:\n",
    "    exp_name += '_LabelNoise_'+str(cfg['noise_ratio'])\n",
    "    \n",
    "cfg['exp_name'] = exp_name + '/run_%d'%(run)\n",
    "if not os.path.exists(cfg['exp_name']):\n",
    "    print(\"Making directory\", cfg['exp_name'])\n",
    "    os.makedirs(cfg['exp_name'])"
   ]
  },
  {
   "cell_type": "code",
   "execution_count": null,
   "metadata": {},
   "outputs": [],
   "source": [
    "fname = cfg['exp_name'] + '/config.json'\n",
    "with open(fname, 'w') as f:\n",
    "    json.dump(cfg, f)"
   ]
  },
  {
   "cell_type": "code",
   "execution_count": null,
   "metadata": {},
   "outputs": [],
   "source": [
    "trn, tst = datasets.get_dataset(cfg)"
   ]
  },
  {
   "cell_type": "code",
   "execution_count": null,
   "metadata": {},
   "outputs": [],
   "source": [
    "with open(cfg['exp_name']+'/noisy_trn', 'wb') as f:\n",
    "    pickle.dump(trn._asdict(), f, pickle.HIGHEST_PROTOCOL)\n",
    "with open(cfg['exp_name']+'/tst', 'wb') as f:\n",
    "    pickle.dump(tst._asdict(), f, pickle.HIGHEST_PROTOCOL)"
   ]
  },
  {
   "cell_type": "code",
   "execution_count": null,
   "metadata": {
    "scrolled": true
   },
   "outputs": [],
   "source": [
    "model = models.get_model(cfg, trn)\n",
    "model.summary()"
   ]
  },
  {
   "cell_type": "code",
   "execution_count": null,
   "metadata": {},
   "outputs": [],
   "source": [
    "if not os.path.exists(cfg['exp_name']+'/saved_models'):\n",
    "    print(\"Making directory\", cfg['exp_name']+'/saved_models')\n",
    "    os.makedirs(cfg['exp_name']+'/saved_models')\n",
    "model.save(cfg['exp_name']+\"/saved_models/model-00\")"
   ]
  },
  {
   "cell_type": "code",
   "execution_count": null,
   "metadata": {
    "scrolled": true
   },
   "outputs": [],
   "source": [
    "lr_decay = ReduceLROnPlateau(monitor='accuracy', factor=0.9, patience=10, verbose=1)\n",
    "ckpt = ModelCheckpoint(cfg['exp_name']+\"/saved_models/model-{epoch:02d}\", verbose=1, save_best_only=False)\n",
    "\n",
    "r = model.fit(x=trn.X, y=trn.Y, \n",
    "              verbose    = 1, \n",
    "              batch_size = cfg['batch_size'],\n",
    "              epochs = cfg['n_epochs'],\n",
    "              validation_data=(tst.X, tst.Y),\n",
    "              callbacks = [lr_decay, ckpt])"
   ]
  },
  {
   "cell_type": "code",
   "execution_count": null,
   "metadata": {},
   "outputs": [],
   "source": [
    "epochs_list = [0,2,4,6,8,10,20,30,40,50,60,70,80,90,100]"
   ]
  },
  {
   "cell_type": "code",
   "execution_count": null,
   "metadata": {},
   "outputs": [],
   "source": [
    "train_loss = []\n",
    "train_acc = []\n",
    "test_loss = []\n",
    "test_acc = []\n",
    "for epoch in epochs_list:\n",
    "    model = keras.models.load_model(cfg['exp_name']+\"/saved_models/model-%02d\"%epoch)\n",
    "    \n",
    "    if cfg['noise_ratio'] > 0:\n",
    "        Dataset = namedtuple('Dataset',['X','Y','y'])\n",
    "        with open(cfg['exp_name']+'/noisy_trn', 'rb') as f:\n",
    "            trn = Dataset(**pickle.load(f))\n",
    "        with open(cfg['exp_name']+'/tst', 'rb') as f:\n",
    "            tst = Dataset(**pickle.load(f))\n",
    "    \n",
    "    trn_results = model.evaluate(trn.X, trn.Y, batch_size=32, verbose=0)\n",
    "    train_loss.append(trn_results[0])\n",
    "    train_acc.append(trn_results[1])\n",
    "    tst_results = model.evaluate(tst.X, tst.Y, batch_size=32, verbose=0)\n",
    "    test_loss.append(tst_results[0])\n",
    "    test_acc.append(tst_results[1])\n",
    "\n",
    "metrics={}\n",
    "metrics['train_loss'] = train_loss\n",
    "metrics['train_acc'] = train_acc\n",
    "metrics['test_loss'] = test_loss\n",
    "metrics['test_acc'] = test_acc\n",
    "\n",
    "fname = cfg['exp_name']+'/metrics'\n",
    "print(\"Saving\", fname)\n",
    "with open(fname, 'wb') as f:\n",
    "    pickle.dump(metrics, f, pickle.HIGHEST_PROTOCOL)"
   ]
  },
  {
   "cell_type": "code",
   "execution_count": null,
   "metadata": {
    "scrolled": true
   },
   "outputs": [],
   "source": [
    "smi_all_epochs = defaultdict(list)\n",
    "\n",
    "for epoch in epochs_list:\n",
    "    filepath = cfg['exp_name']+\"/saved_models/model-%02d\"%epoch\n",
    "    model = keras.models.load_model(filepath)\n",
    "    \n",
    "    if cfg['noise_ratio'] > 0:\n",
    "        Dataset = namedtuple('Dataset',['X','Y','y'])\n",
    "        with open(cfg['exp_name']+'/noisy_trn', 'rb') as f:\n",
    "            trn = Dataset(**pickle.load(f))\n",
    "    noisy_label = trn.Y.argmax(1)\n",
    "    \n",
    "    smi_all_layers = []\n",
    "    print('Epoch:',epoch)\n",
    "    count = 0\n",
    "    for l,layer in enumerate(model.layers):\n",
    "        if hasattr(layer, 'kernel'):\n",
    "            count +=1\n",
    "            int_model = keras.Model(inputs=model.inputs, outputs=model.layers[l].output)\n",
    "            activity = int_model.predict(trn.X[:10000])\n",
    "            smi = ee.compute_smi(x=activity, y=noisy_label[:10000], m=500)\n",
    "            smi_all_layers.append(smi)\n",
    "            print('Layer %d: SI(T;Y) = %0.3f'%(count,smi))\n",
    "    smi_all_epochs['Epoch%02d'%epoch] = smi_all_layers\n",
    "\n",
    "fname = cfg['exp_name']+'/smi'\n",
    "print(\"Saving\", fname)\n",
    "with open(fname, 'wb') as f:\n",
    "    pickle.dump(smi_all_epochs, f, pickle.HIGHEST_PROTOCOL)"
   ]
  },
  {
   "cell_type": "markdown",
   "metadata": {},
   "source": [
    "## CNN"
   ]
  },
  {
   "cell_type": "code",
   "execution_count": null,
   "metadata": {},
   "outputs": [],
   "source": [
    "cfg = {}\n",
    "cfg['dataset'] = 'Fashion_MNIST'\n",
    "cfg['model'] = 'CNN_Global'\n",
    "cfg['width'] = [512,512,512,512]\n",
    "cfg['optimizer'] = 'SGD'\n",
    "cfg['learning_rate'] = 0.01\n",
    "cfg['batch_size']    = 32\n",
    "cfg['n_epochs'] = 100\n",
    "cfg['n_train'] = None\n",
    "\n",
    "cfg['dropout'] = []\n",
    "cfg['weight_decay'] = []\n",
    "cfg['batch_norm'] = [True,True,True,True]\n",
    "cfg['noise_ratio'] = 0"
   ]
  },
  {
   "cell_type": "code",
   "execution_count": null,
   "metadata": {},
   "outputs": [],
   "source": [
    "run = 1\n",
    "\n",
    "arch =  '-'.join(map(str,cfg['width']))\n",
    "exp_name = 'label_noise/'+cfg['model']+'_'+arch+'_'+cfg['dataset']+'_'+cfg['optimizer']\n",
    "if len(cfg['batch_norm']) > 0:\n",
    "    bn =  '-'.join(map(str,cfg['batch_norm']))\n",
    "    exp_name += '_BatchNorm_'+bn\n",
    "if cfg['noise_ratio'] > 0:\n",
    "    exp_name += '_LabelNoise_'+str(cfg['noise_ratio'])\n",
    "    \n",
    "cfg['exp_name'] = exp_name + '/run_%d'%(run)\n",
    "if not os.path.exists(cfg['exp_name']):\n",
    "    print(\"Making directory\", cfg['exp_name'])\n",
    "    os.makedirs(cfg['exp_name'])"
   ]
  },
  {
   "cell_type": "code",
   "execution_count": null,
   "metadata": {},
   "outputs": [],
   "source": [
    "fname = cfg['exp_name'] + '/config.json'\n",
    "with open(fname, 'w') as f:\n",
    "    json.dump(cfg, f)"
   ]
  },
  {
   "cell_type": "code",
   "execution_count": null,
   "metadata": {},
   "outputs": [],
   "source": [
    "trn, tst = datasets.get_dataset(cfg)\n",
    "\n",
    "if cfg['noise_ratio'] > 0:\n",
    "    with open(cfg['exp_name']+'/noisy_trn', 'wb') as f:\n",
    "        pickle.dump(trn._asdict(), f, pickle.HIGHEST_PROTOCOL)\n",
    "    with open(cfg['exp_name']+'/tst', 'wb') as f:\n",
    "        pickle.dump(tst._asdict(), f, pickle.HIGHEST_PROTOCOL)"
   ]
  },
  {
   "cell_type": "code",
   "execution_count": null,
   "metadata": {
    "scrolled": true
   },
   "outputs": [],
   "source": [
    "model = models.get_model(cfg, trn)\n",
    "model.summary()"
   ]
  },
  {
   "cell_type": "code",
   "execution_count": null,
   "metadata": {},
   "outputs": [],
   "source": [
    "if not os.path.exists(cfg['exp_name']+'/saved_models'):\n",
    "    print(\"Making directory\", cfg['exp_name']+'/saved_models')\n",
    "    os.makedirs(cfg['exp_name']+'/saved_models')\n",
    "model.save(cfg['exp_name']+\"/saved_models/model-00\")"
   ]
  },
  {
   "cell_type": "code",
   "execution_count": null,
   "metadata": {
    "scrolled": true
   },
   "outputs": [],
   "source": [
    "def lr_step_decay(epoch, lr):\n",
    "    drop_rate = 0.9\n",
    "    epochs_drop = 20\n",
    "    return cfg['learning_rate'] * np.power(drop_rate, np.floor(epoch/epochs_drop))\n",
    "\n",
    "lr_decay = ReduceLROnPlateau(monitor='accuracy', factor=0.9, patience=10, verbose=1)\n",
    "ckpt = ModelCheckpoint(cfg['exp_name']+\"/saved_models/model-{epoch:02d}\", verbose=1, save_best_only=False)\n",
    "\n",
    "r = model.fit(x=trn.X, y=trn.Y, \n",
    "              verbose    = 1, \n",
    "              batch_size = cfg['batch_size'],\n",
    "              epochs = cfg['n_epochs'],\n",
    "              callbacks = [lr_decay, ckpt])"
   ]
  },
  {
   "cell_type": "code",
   "execution_count": null,
   "metadata": {},
   "outputs": [],
   "source": [
    "epochs_list = [0,2,4,6,8,10,20,30,40,50,60,70,80,90,100]"
   ]
  },
  {
   "cell_type": "code",
   "execution_count": null,
   "metadata": {},
   "outputs": [],
   "source": [
    "train_loss = []\n",
    "train_acc = []\n",
    "test_loss = []\n",
    "test_acc = []\n",
    "for epoch in epochs_list:\n",
    "    model = keras.models.load_model(cfg['exp_name']+\"/saved_models/model-%02d\"%epoch)\n",
    "    \n",
    "    if cfg['noise_ratio'] > 0:\n",
    "        Dataset = namedtuple('Dataset',['X','Y','y'])\n",
    "        with open(cfg['exp_name']+'/noisy_trn', 'rb') as f:\n",
    "            trn = Dataset(**pickle.load(f))\n",
    "        with open(cfg['exp_name']+'/tst', 'rb') as f:\n",
    "            tst = Dataset(**pickle.load(f))\n",
    "    \n",
    "    trn_results = model.evaluate(trn.X, trn.Y, batch_size=32, verbose=0)\n",
    "    train_loss.append(trn_results[0])\n",
    "    train_acc.append(trn_results[1])\n",
    "    tst_results = model.evaluate(tst.X, tst.Y, batch_size=32, verbose=0)\n",
    "    test_loss.append(tst_results[0])\n",
    "    test_acc.append(tst_results[1])\n",
    "\n",
    "metrics={}\n",
    "metrics['train_loss'] = train_loss\n",
    "metrics['train_acc'] = train_acc\n",
    "metrics['test_loss'] = test_loss\n",
    "metrics['test_acc'] = test_acc\n",
    "\n",
    "fname = cfg['exp_name']+'/metrics'\n",
    "print(\"Saving\", fname)\n",
    "with open(fname, 'wb') as f:\n",
    "    pickle.dump(metrics, f, pickle.HIGHEST_PROTOCOL)"
   ]
  },
  {
   "cell_type": "code",
   "execution_count": null,
   "metadata": {
    "scrolled": true
   },
   "outputs": [],
   "source": [
    "smi_all_epochs = defaultdict(list)\n",
    "\n",
    "for epoch in epochs_list:\n",
    "    filepath = cfg['exp_name']+\"/saved_models/model-%02d\"%epoch\n",
    "    model = keras.models.load_model(filepath)\n",
    "    \n",
    "    if cfg['noise_ratio'] > 0:\n",
    "        Dataset = namedtuple('Dataset',['X','Y','y'])\n",
    "        with open(cfg['exp_name']+'/noisy_trn', 'rb') as f:\n",
    "            trn = Dataset(**pickle.load(f))\n",
    "            \n",
    "    noisy_label = trn.Y.argmax(1)\n",
    "    \n",
    "    smi_all_layers = []\n",
    "    print('Epoch:',epoch)\n",
    "    count = 0\n",
    "    for l,layer in enumerate(model.layers):\n",
    "        if isinstance(layer, keras.layers.Activation) or isinstance(layer, keras.layers.GlobalAveragePooling2D):\n",
    "            count +=1\n",
    "            int_model = keras.Model(inputs=model.inputs, outputs=model.layers[l].output)\n",
    "            activity = int_model.predict(trn.X[:10000], batch_size=32)\n",
    "            if len(activity.shape) > 2:\n",
    "                activity = activity.reshape(activity.shape[0],-1)\n",
    "            smi = ee.compute_smi(x=activity, y=noisy_label[:10000], m=500)\n",
    "            smi_all_layers.append(smi)\n",
    "            print('Layer %d: SI(T;Y) = %0.3f'%(count,smi))\n",
    "\n",
    "        \n",
    "    smi_all_epochs['Epoch%02d'%epoch] = smi_all_layers\n",
    "\n",
    "fname = cfg['exp_name']+'/smi_corrupted'\n",
    "print(\"Saving\", fname)\n",
    "with open(fname, 'wb') as f:\n",
    "    pickle.dump(smi_all_epochs, f, pickle.HIGHEST_PROTOCOL)"
   ]
  },
  {
   "cell_type": "code",
   "execution_count": null,
   "metadata": {},
   "outputs": [],
   "source": []
  }
 ],
 "metadata": {
  "kernelspec": {
   "display_name": "Python 3",
   "language": "python",
   "name": "python3"
  },
  "language_info": {
   "codemirror_mode": {
    "name": "ipython",
    "version": 3
   },
   "file_extension": ".py",
   "mimetype": "text/x-python",
   "name": "python",
   "nbconvert_exporter": "python",
   "pygments_lexer": "ipython3",
   "version": "3.6.13"
  }
 },
 "nbformat": 4,
 "nbformat_minor": 4
}
